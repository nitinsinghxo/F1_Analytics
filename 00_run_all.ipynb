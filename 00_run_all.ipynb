{
 "cells": [
  {
   "cell_type": "code",
   "execution_count": null,
   "id": "034bb0b2",
   "metadata": {},
   "outputs": [],
   "source": [
    "import os\n",
    "import nbformat\n",
    "from nbconvert.preprocessors import ExecutePreprocessor\n",
    "\n",
    "NOTEBOOKS = [\n",
    "    \"01_data_extraction.ipynb\",\n",
    "    \"02_load_to_sql.ipynb\",\n",
    "    \"03_eda.ipynb\",\n",
    "    \"04_ml_prediction.ipynb\"\n",
    "]\n",
    "\n",
    "def run_notebook(path):\n",
    "    print(f\"▶ Running {path}\")\n",
    "    with open(path) as f:\n",
    "        nb = nbformat.read(f, as_version=4)\n",
    "    ep = ExecutePreprocessor(timeout=None)\n",
    "    ep.preprocess(nb, {'metadata': {'path': os.path.dirname(path)}})\n",
    "    print(f\"✅ Completed {path}\\n\")\n",
    "\n",
    "if __name__ == \"__main__\":\n",
    "    for i, nb in enumerate(NOTEBOOKS, 1):\n",
    "        print(f\"[{i}/{len(NOTEBOOKS)}] Starting {nb}\")\n",
    "        run_notebook(nb)\n",
    "    print(\"🏁 All notebooks executed successfully.\")\n"
   ]
  }
 ],
 "metadata": {
  "language_info": {
   "name": "python"
  }
 },
 "nbformat": 4,
 "nbformat_minor": 5
}
